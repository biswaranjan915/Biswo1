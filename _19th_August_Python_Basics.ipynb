{
 "cells": [
  {
   "cell_type": "code",
   "execution_count": 1,
   "id": "52ecd150-01dc-4db7-95c1-c3502e1ed91c",
   "metadata": {},
   "outputs": [],
   "source": [
    "#Q1 Declare two variables, `x` and `y`, and assign them integer values.\n",
    "#Swap the values of these variables without using any temporary variable."
   ]
  },
  {
   "cell_type": "code",
   "execution_count": 2,
   "id": "5d2dfc5b-0dba-4fb7-97f7-e3ac940f9fba",
   "metadata": {},
   "outputs": [],
   "source": [
    "# Declare varibale x & assign integer value 7\n",
    "x=7"
   ]
  },
  {
   "cell_type": "code",
   "execution_count": 3,
   "id": "e5b64659-1fcd-4577-a59d-9f5fbe0e2765",
   "metadata": {},
   "outputs": [],
   "source": [
    "# Declare variable y & assign integer value 4\n",
    "y=4"
   ]
  },
  {
   "cell_type": "code",
   "execution_count": 4,
   "id": "4792f6ba-c210-45bd-9a8a-970134689b5d",
   "metadata": {},
   "outputs": [],
   "source": [
    "x,y=y,x"
   ]
  },
  {
   "cell_type": "code",
   "execution_count": 5,
   "id": "1399b785-f484-47e1-a17b-3363fd61b1f6",
   "metadata": {},
   "outputs": [
    {
     "data": {
      "text/plain": [
       "4"
      ]
     },
     "execution_count": 5,
     "metadata": {},
     "output_type": "execute_result"
    }
   ],
   "source": [
    "x"
   ]
  },
  {
   "cell_type": "code",
   "execution_count": 6,
   "id": "6c806d9a-5867-4a44-9464-b1198aa0894f",
   "metadata": {},
   "outputs": [
    {
     "data": {
      "text/plain": [
       "7"
      ]
     },
     "execution_count": 6,
     "metadata": {},
     "output_type": "execute_result"
    }
   ],
   "source": [
    "y"
   ]
  },
  {
   "cell_type": "code",
   "execution_count": 7,
   "id": "c801f10d-b3b3-4665-b8ae-98c4d8204f59",
   "metadata": {},
   "outputs": [],
   "source": [
    "#Q2 Create a program that calculates the area of a rectangle. Take the\n",
    "#length and width as inputs from the user and store them in variables.\n",
    "#Calculate and display the area."
   ]
  },
  {
   "cell_type": "code",
   "execution_count": 8,
   "id": "04db0933-6ade-4789-8ea1-7d9d2facb830",
   "metadata": {},
   "outputs": [
    {
     "name": "stdin",
     "output_type": "stream",
     "text": [
      "enter the value of length: 76\n"
     ]
    }
   ],
   "source": [
    "length=float(input('enter the value of length:'))"
   ]
  },
  {
   "cell_type": "code",
   "execution_count": 9,
   "id": "6b771f69-f4fa-43d3-8424-ceaeb596a33f",
   "metadata": {},
   "outputs": [
    {
     "name": "stdin",
     "output_type": "stream",
     "text": [
      "enter the value of width 54\n"
     ]
    }
   ],
   "source": [
    "width=float(input('enter the value of width'))"
   ]
  },
  {
   "cell_type": "code",
   "execution_count": 10,
   "id": "adf514cf-32d7-4dbd-b91d-7967106481b6",
   "metadata": {},
   "outputs": [],
   "source": [
    "#Formula\n",
    "Area=length*width"
   ]
  },
  {
   "cell_type": "code",
   "execution_count": 11,
   "id": "87c72403-0849-4ae6-aaf9-d6d6052d6220",
   "metadata": {},
   "outputs": [
    {
     "name": "stdout",
     "output_type": "stream",
     "text": [
      "the area of rectangle = 4104.0\n"
     ]
    }
   ],
   "source": [
    "print(('the area of rectangle'),\"=\" , Area)"
   ]
  },
  {
   "cell_type": "code",
   "execution_count": 12,
   "id": "513ed1f6-6ffd-42ea-86a4-494672d613ec",
   "metadata": {},
   "outputs": [],
   "source": [
    "# Q3 Write a Python program that converts temperature from Celsius to\n",
    "#Fahrenheit. Take the temperature in Celsius as input, store it in a\n",
    "#variable, convert it to Fahrenheit, and display the result."
   ]
  },
  {
   "cell_type": "code",
   "execution_count": 13,
   "id": "93800c44-59b4-4d72-bbac-76a5a557d092",
   "metadata": {},
   "outputs": [
    {
     "name": "stdin",
     "output_type": "stream",
     "text": [
      "enter the value of celsius: 30\n"
     ]
    }
   ],
   "source": [
    "celsius=float(input(\"enter the value of celsius:\"))"
   ]
  },
  {
   "cell_type": "code",
   "execution_count": 14,
   "id": "dc17724f-e9f9-45c6-ab99-96c53f5ed22e",
   "metadata": {},
   "outputs": [],
   "source": [
    "# formula for conversion c to f\n",
    "fahrenheit=(celsius*9/5)+32 "
   ]
  },
  {
   "cell_type": "code",
   "execution_count": 15,
   "id": "ab32e242-e3ca-4b27-9388-cc8de36d4ceb",
   "metadata": {},
   "outputs": [
    {
     "name": "stdout",
     "output_type": "stream",
     "text": [
      "after conversion celsius to fahrenite value is = 86.0\n"
     ]
    }
   ],
   "source": [
    "print('after conversion celsius to fahrenite value is','=',fahrenheit)"
   ]
  },
  {
   "cell_type": "code",
   "execution_count": 16,
   "id": "40b4a85b-59b2-4c3f-b6f2-73c7292d3b67",
   "metadata": {},
   "outputs": [],
   "source": [
    "#String Based Questions"
   ]
  },
  {
   "cell_type": "code",
   "execution_count": 17,
   "id": "73a05ef2-d557-4e00-a71e-62d0e422f406",
   "metadata": {},
   "outputs": [],
   "source": [
    "#1. Write a Python program that takes a string as input and prints the\n",
    "#length of the string."
   ]
  },
  {
   "cell_type": "code",
   "execution_count": 18,
   "id": "9e06afbc-0c4c-4196-8020-0b340eec954d",
   "metadata": {},
   "outputs": [
    {
     "name": "stdin",
     "output_type": "stream",
     "text": [
      "enter a string biswaranjan\n"
     ]
    },
    {
     "data": {
      "text/plain": [
       "11"
      ]
     },
     "execution_count": 18,
     "metadata": {},
     "output_type": "execute_result"
    }
   ],
   "source": [
    "string=str(input('enter a string'))\n",
    "len(string)"
   ]
  },
  {
   "cell_type": "code",
   "execution_count": 19,
   "id": "92218432-322f-4038-914b-f10cc75fdf1d",
   "metadata": {},
   "outputs": [],
   "source": [
    "#2 2. Create a program that takes a sentence from the user and counts the\n",
    "#number of vowels (a, e, i, o, u) in the string."
   ]
  },
  {
   "cell_type": "code",
   "execution_count": 20,
   "id": "ee1b5ed4-3516-4638-8b33-79184da45766",
   "metadata": {},
   "outputs": [
    {
     "name": "stdin",
     "output_type": "stream",
     "text": [
      "enter the sentence= biswaranjan\n"
     ]
    }
   ],
   "source": [
    "sentence=input(\"enter the sentence=\")"
   ]
  },
  {
   "cell_type": "code",
   "execution_count": 21,
   "id": "5cd0f5f3-1afe-4ba8-b325-06aa2b2185d1",
   "metadata": {},
   "outputs": [
    {
     "data": {
      "text/plain": [
       "4"
      ]
     },
     "execution_count": 21,
     "metadata": {},
     "output_type": "execute_result"
    }
   ],
   "source": [
    "int(sentence.count('a')+sentence.count('e')+sentence.count('i')+sentence.count('o')+sentence.count('u'))"
   ]
  },
  {
   "cell_type": "code",
   "execution_count": 22,
   "id": "839b26cb-ec7e-4d9d-bd9f-dd3759b71062",
   "metadata": {},
   "outputs": [],
   "source": [
    "#3.Given a string, reverse the order of characters using string slicing and\n",
    "#print the reversed string."
   ]
  },
  {
   "cell_type": "code",
   "execution_count": 23,
   "id": "a0927818-8c01-4ee6-a665-c705fa0721aa",
   "metadata": {},
   "outputs": [],
   "source": [
    "s=\"bisworanjan das\""
   ]
  },
  {
   "cell_type": "code",
   "execution_count": 24,
   "id": "ac9ac897-ba30-478d-9d52-ff8f78a370b9",
   "metadata": {},
   "outputs": [],
   "source": [
    "#slicing \n",
    "s=s[::-1]"
   ]
  },
  {
   "cell_type": "code",
   "execution_count": 25,
   "id": "81cd1e3e-9e1b-477a-9091-57249446142c",
   "metadata": {},
   "outputs": [
    {
     "name": "stdout",
     "output_type": "stream",
     "text": [
      "sad najnarowsib\n"
     ]
    }
   ],
   "source": [
    "print(s)"
   ]
  },
  {
   "cell_type": "code",
   "execution_count": 26,
   "id": "b1140188-5764-4dc4-84ae-21c92b788ed1",
   "metadata": {},
   "outputs": [],
   "source": [
    "#4.Write a program that takes a string as input and checks if it is a\n",
    "#palindrome (reads the same forwards and backwards)."
   ]
  },
  {
   "cell_type": "code",
   "execution_count": 27,
   "id": "63aa0f7e-5405-4889-8470-41432499a9b1",
   "metadata": {},
   "outputs": [
    {
     "name": "stdin",
     "output_type": "stream",
     "text": [
      "enter any string radar\n"
     ]
    }
   ],
   "source": [
    "s=input(\"enter any string\")"
   ]
  },
  {
   "cell_type": "code",
   "execution_count": 28,
   "id": "ab30ea98-a97a-4c16-a73d-a5d03b714223",
   "metadata": {},
   "outputs": [
    {
     "name": "stdout",
     "output_type": "stream",
     "text": [
      "{True}\n"
     ]
    }
   ],
   "source": [
    "print({s==s[::-1]})"
   ]
  },
  {
   "cell_type": "code",
   "execution_count": 29,
   "id": "88b501ed-e60b-46fa-b0ed-8446d4fd8b04",
   "metadata": {},
   "outputs": [],
   "source": [
    "# Q 5. Create a program that takes a string as input and removes all the\n",
    "#spaces from it. Print the modified string without spaces \n",
    "s1=\"Biswo ranjan das\""
   ]
  },
  {
   "cell_type": "code",
   "execution_count": 30,
   "id": "a8da4e68-2c92-47a0-bd59-5425a07f381f",
   "metadata": {},
   "outputs": [],
   "source": [
    "s1=s1.replace(\" \",\"\")"
   ]
  },
  {
   "cell_type": "code",
   "execution_count": 31,
   "id": "2cf9a24a-d134-4d36-b70a-0991cf24fc18",
   "metadata": {},
   "outputs": [
    {
     "name": "stdout",
     "output_type": "stream",
     "text": [
      "Bisworanjandas\n"
     ]
    }
   ],
   "source": [
    "print(s1)"
   ]
  }
 ],
 "metadata": {
  "kernelspec": {
   "display_name": "Python 3 (ipykernel)",
   "language": "python",
   "name": "python3"
  },
  "language_info": {
   "codemirror_mode": {
    "name": "ipython",
    "version": 3
   },
   "file_extension": ".py",
   "mimetype": "text/x-python",
   "name": "python",
   "nbconvert_exporter": "python",
   "pygments_lexer": "ipython3",
   "version": "3.10.8"
  }
 },
 "nbformat": 4,
 "nbformat_minor": 5
}
